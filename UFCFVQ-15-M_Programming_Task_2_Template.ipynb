{
 "cells": [
  {
   "cell_type": "markdown",
   "metadata": {
    "deletable": false
   },
   "source": [
    "# UFCFVQ-15-M Programming for Data Science (Autumn 2021)\n",
    "# Programming Task 2\n",
    "\n",
    "## Student Id: 21042301"
   ]
  },
  {
   "cell_type": "markdown",
   "metadata": {
    "deletable": false
   },
   "source": [
    "### Requirement FR9 - Read CSV data from two files and merge it into a single Data Frame "
   ]
  },
  {
   "cell_type": "code",
   "execution_count": 102,
   "metadata": {},
   "outputs": [
    {
     "name": "stdout",
     "output_type": "stream",
     "text": [
      "    region  median_household_income  share_unemployed_seasonal  \\\n",
      "0        1                    42278                      0.060   \n",
      "1        2                    67629                      0.064   \n",
      "2        3                    49254                      0.063   \n",
      "3        4                    44922                      0.052   \n",
      "4        5                    60487                      0.059   \n",
      "5        6                    60940                      0.040   \n",
      "6        7                    70161                      0.052   \n",
      "7        8                    57522                      0.049   \n",
      "8        9                    68277                      0.067   \n",
      "9       10                    46140                      0.052   \n",
      "10      11                    49555                      0.058   \n",
      "11      12                    71223                      0.034   \n",
      "12      13                    53438                      0.042   \n",
      "13      14                    54916                      0.054   \n",
      "14      15                    48060                      0.044   \n",
      "15      16                    57810                      0.036   \n",
      "16      17                    53444                      0.044   \n",
      "17      18                    42786                      0.050   \n",
      "18      19                    42406                      0.060   \n",
      "19      20                    51710                      0.044   \n",
      "20      21                    76165                      0.051   \n",
      "21      22                    63151                      0.046   \n",
      "22      23                    52005                      0.050   \n",
      "23      24                    67244                      0.038   \n",
      "24      25                    35521                      0.061   \n",
      "25      26                    56630                      0.053   \n",
      "26      27                    51102                      0.041   \n",
      "27      28                    56870                      0.029   \n",
      "28      29                    49875                      0.067   \n",
      "29      30                    73397                      0.034   \n",
      "30      31                    65243                      0.056   \n",
      "31      32                    46686                      0.068   \n",
      "32      33                    54310                      0.051   \n",
      "33      34                    46784                      0.058   \n",
      "34      35                    60730                      0.028   \n",
      "35      36                    49644                      0.045   \n",
      "36      37                    47199                      0.044   \n",
      "37      38                    58875                      0.062   \n",
      "38      39                    55173                      0.053   \n",
      "39      40                    58633                      0.054   \n",
      "40      41                    44929                      0.057   \n",
      "41      42                    53053                      0.035   \n",
      "42      43                    43716                      0.057   \n",
      "43      44                    53875                      0.042   \n",
      "44      45                    63383                      0.036   \n",
      "45      46                    60708                      0.037   \n",
      "46      47                    66155                      0.043   \n",
      "47      48                    59068                      0.052   \n",
      "48      49                    39552                      0.073   \n",
      "49      50                    58080                      0.043   \n",
      "50      51                    55690                      0.040   \n",
      "\n",
      "    share_population_in_metro_areas  share_population_with_high_school_degree  \\\n",
      "0                              0.64                                     0.821   \n",
      "1                              0.63                                     0.914   \n",
      "2                              0.90                                     0.842   \n",
      "3                              0.69                                     0.824   \n",
      "4                              0.97                                     0.806   \n",
      "5                              0.80                                     0.893   \n",
      "6                              0.94                                     0.886   \n",
      "7                              0.90                                     0.874   \n",
      "8                              1.00                                     0.871   \n",
      "9                              0.96                                     0.853   \n",
      "10                             0.82                                     0.839   \n",
      "11                             0.76                                     0.904   \n",
      "12                             0.70                                     0.884   \n",
      "13                             0.90                                     0.864   \n",
      "14                             0.79                                     0.866   \n",
      "15                             0.60                                     0.914   \n",
      "16                             0.64                                     0.897   \n",
      "17                             0.56                                     0.817   \n",
      "18                             0.81                                     0.822   \n",
      "19                             0.54                                     0.902   \n",
      "20                             0.97                                     0.890   \n",
      "21                             0.97                                     0.890   \n",
      "22                             0.87                                     0.879   \n",
      "23                             0.75                                     0.915   \n",
      "24                             0.45                                     0.804   \n",
      "25                             0.78                                     0.868   \n",
      "26                             0.34                                     0.908   \n",
      "27                             0.60                                     0.898   \n",
      "28                             0.87                                     0.839   \n",
      "29                             0.63                                     0.913   \n",
      "30                             1.00                                     0.874   \n",
      "31                             0.69                                     0.828   \n",
      "32                             0.94                                     0.847   \n",
      "33                             0.76                                     0.843   \n",
      "34                             0.50                                     0.901   \n",
      "35                             0.75                                     0.876   \n",
      "36                             0.59                                     0.856   \n",
      "37                             0.87                                     0.891   \n",
      "38                             0.87                                     0.879   \n",
      "39                             1.00                                     0.847   \n",
      "40                             0.79                                     0.836   \n",
      "41                             0.51                                     0.899   \n",
      "42                             0.82                                     0.831   \n",
      "43                             0.92                                     0.799   \n",
      "44                             0.82                                     0.904   \n",
      "45                             0.35                                     0.910   \n",
      "46                             0.89                                     0.866   \n",
      "47                             0.86                                     0.897   \n",
      "48                             0.55                                     0.828   \n",
      "49                             0.69                                     0.898   \n",
      "50                             0.31                                     0.918   \n",
      "\n",
      "    share_non_citizen  share_white_poverty  gini_index  share_non_white  \\\n",
      "0                0.02                 0.12       0.472             0.35   \n",
      "1                0.04                 0.06       0.422             0.42   \n",
      "2                0.10                 0.09       0.455             0.49   \n",
      "3                0.04                 0.12       0.458             0.26   \n",
      "4                0.13                 0.09       0.471             0.61   \n",
      "5                0.06                 0.07       0.457             0.31   \n",
      "6                0.06                 0.06       0.486             0.30   \n",
      "7                0.05                 0.08       0.440             0.37   \n",
      "8                0.11                 0.04       0.532             0.63   \n",
      "9                0.09                 0.11       0.474             0.46   \n",
      "10               0.08                 0.09       0.468             0.48   \n",
      "11               0.08                 0.07       0.433             0.81   \n",
      "12               0.04                 0.11       0.433             0.16   \n",
      "13               0.07                 0.07       0.465             0.37   \n",
      "14               0.03                 0.12       0.440             0.20   \n",
      "15               0.03                 0.09       0.427             0.15   \n",
      "16               0.04                 0.11       0.445             0.25   \n",
      "17               0.03                 0.17       0.466             0.15   \n",
      "18               0.02                 0.12       0.475             0.42   \n",
      "19                NaN                 0.12       0.437             0.09   \n",
      "20               0.08                 0.06       0.443             0.50   \n",
      "21               0.09                 0.08       0.475             0.27   \n",
      "22               0.04                 0.09       0.451             0.24   \n",
      "23               0.05                 0.05       0.440             0.18   \n",
      "24                NaN                 0.14       0.468             0.44   \n",
      "25               0.02                 0.07       0.455             0.20   \n",
      "26               0.01                 0.10       0.435             0.10   \n",
      "27               0.05                 0.07       0.432             0.21   \n",
      "28               0.10                 0.08       0.448             0.50   \n",
      "29               0.03                 0.06       0.425             0.09   \n",
      "30               0.11                 0.07       0.464             0.44   \n",
      "31               0.06                 0.10       0.464             0.62   \n",
      "32               0.10                 0.10       0.499             0.42   \n",
      "33               0.05                 0.10       0.464             0.38   \n",
      "34               0.03                 0.09       0.433             0.15   \n",
      "35               0.03                 0.10       0.452             0.21   \n",
      "36               0.04                 0.10       0.454             0.35   \n",
      "37               0.07                 0.10       0.449             0.26   \n",
      "38               0.03                 0.09       0.461             0.24   \n",
      "39               0.08                 0.08       0.467             0.28   \n",
      "40               0.03                 0.09       0.461             0.36   \n",
      "41                NaN                 0.08       0.442             0.17   \n",
      "42               0.04                 0.13       0.468             0.27   \n",
      "43               0.11                 0.08       0.469             0.56   \n",
      "44               0.04                 0.08       0.419             0.19   \n",
      "45               0.01                 0.10       0.444             0.06   \n",
      "46               0.06                 0.07       0.459             0.38   \n",
      "47               0.08                 0.09       0.441             0.31   \n",
      "48               0.01                 0.14       0.451             0.07   \n",
      "49               0.03                 0.09       0.430             0.22   \n",
      "50               0.02                 0.09       0.423             0.15   \n",
      "\n",
      "    share_voters_voted_to_the_right  avg_biascrimes_per_100k  \n",
      "0                              0.63                 1.806410  \n",
      "1                              0.53                 1.656700  \n",
      "2                              0.50                 3.413928  \n",
      "3                              0.60                 0.869209  \n",
      "4                              0.33                 2.397986  \n",
      "5                              0.44                 2.804689  \n",
      "6                              0.41                 3.772701  \n",
      "7                              0.42                 1.469980  \n",
      "8                              0.04                10.953480  \n",
      "9                              0.49                 0.698070  \n",
      "10                             0.51                 0.412012  \n",
      "11                             0.30                      NaN  \n",
      "12                             0.59                 1.891331  \n",
      "13                             0.39                 1.044016  \n",
      "14                             0.57                 1.757357  \n",
      "15                             0.52                 0.561396  \n",
      "16                             0.57                 2.143987  \n",
      "17                             0.63                 4.207890  \n",
      "18                             0.58                 1.341170  \n",
      "19                             0.45                 2.626611  \n",
      "20                             0.35                 1.324840  \n",
      "21                             0.34                 4.801899  \n",
      "22                             0.48                 3.200442  \n",
      "23                             0.45                 3.612412  \n",
      "24                             0.58                 0.622746  \n",
      "25                             0.57                 1.908955  \n",
      "26                             0.57                 2.954959  \n",
      "27                             0.60                 2.686248  \n",
      "28                             0.46                 2.113990  \n",
      "29                             0.47                 2.105989  \n",
      "30                             0.42                 4.413203  \n",
      "31                             0.40                 1.886435  \n",
      "32                             0.37                 3.102164  \n",
      "33                             0.51                 1.262680  \n",
      "34                             0.64                 4.741070  \n",
      "35                             0.52                 3.240420  \n",
      "36                             0.65                 1.081672  \n",
      "37                             0.41                 3.394886  \n",
      "38                             0.49                 0.430928  \n",
      "39                             0.40                 1.282572  \n",
      "40                             0.55                 1.937083  \n",
      "41                             0.62                 3.301737  \n",
      "42                             0.61                 3.136051  \n",
      "43                             0.53                 0.752768  \n",
      "44                             0.47                 2.384065  \n",
      "45                             0.33                 1.903081  \n",
      "46                             0.45                 1.724755  \n",
      "47                             0.38                 3.817740  \n",
      "48                             0.69                 2.037054  \n",
      "49                             0.48                 1.121945  \n",
      "50                             0.70                 0.266941  \n"
     ]
    }
   ],
   "source": [
    "import pandas as pd\n",
    "\n",
    "dataframe_1 = pd.read_csv('task2a.csv')\n",
    "dataframe_2 = pd.read_csv('task2b.csv')\n",
    "\n",
    "#Merging the data with one-to-one joins\n",
    "#Specifying the merge key colume with on=\"region\"\n",
    "\n",
    "dataframe_3 = pd.merge(dataframe_1, dataframe_2, on=\"region\")\n",
    "\n",
    "print(dataframe_3)"
   ]
  },
  {
   "cell_type": "markdown",
   "metadata": {
    "deletable": false
   },
   "source": [
    "<p style=\"color:red; font-weight:bold; font-size:xx-small\">MARK: __%</p>\n",
    "<p style=\"color:red; font-weight:bold; font-size:xx-small\">FEEDBACK: </p>"
   ]
  },
  {
   "cell_type": "markdown",
   "metadata": {
    "deletable": false
   },
   "source": [
    "### Requirement FR10 - Clean the merged data"
   ]
  },
  {
   "cell_type": "code",
   "execution_count": 103,
   "metadata": {},
   "outputs": [
    {
     "name": "stdout",
     "output_type": "stream",
     "text": [
      "    region  median_household_income  share_unemployed_seasonal  \\\n",
      "0        1                    42278                      0.060   \n",
      "1        2                    67629                      0.064   \n",
      "2        3                    49254                      0.063   \n",
      "3        4                    44922                      0.052   \n",
      "4        5                    60487                      0.059   \n",
      "5        6                    60940                      0.040   \n",
      "6        7                    70161                      0.052   \n",
      "7        8                    57522                      0.049   \n",
      "8        9                    68277                      0.067   \n",
      "9       10                    46140                      0.052   \n",
      "10      11                    49555                      0.058   \n",
      "12      13                    53438                      0.042   \n",
      "13      14                    54916                      0.054   \n",
      "14      15                    48060                      0.044   \n",
      "15      16                    57810                      0.036   \n",
      "16      17                    53444                      0.044   \n",
      "17      18                    42786                      0.050   \n",
      "18      19                    42406                      0.060   \n",
      "20      21                    76165                      0.051   \n",
      "21      22                    63151                      0.046   \n",
      "22      23                    52005                      0.050   \n",
      "23      24                    67244                      0.038   \n",
      "25      26                    56630                      0.053   \n",
      "26      27                    51102                      0.041   \n",
      "27      28                    56870                      0.029   \n",
      "28      29                    49875                      0.067   \n",
      "29      30                    73397                      0.034   \n",
      "30      31                    65243                      0.056   \n",
      "31      32                    46686                      0.068   \n",
      "32      33                    54310                      0.051   \n",
      "33      34                    46784                      0.058   \n",
      "34      35                    60730                      0.028   \n",
      "35      36                    49644                      0.045   \n",
      "36      37                    47199                      0.044   \n",
      "37      38                    58875                      0.062   \n",
      "38      39                    55173                      0.053   \n",
      "39      40                    58633                      0.054   \n",
      "40      41                    44929                      0.057   \n",
      "42      43                    43716                      0.057   \n",
      "43      44                    53875                      0.042   \n",
      "44      45                    63383                      0.036   \n",
      "45      46                    60708                      0.037   \n",
      "46      47                    66155                      0.043   \n",
      "47      48                    59068                      0.052   \n",
      "48      49                    39552                      0.073   \n",
      "49      50                    58080                      0.043   \n",
      "50      51                    55690                      0.040   \n",
      "\n",
      "    share_population_in_metro_areas  share_population_with_high_school_degree  \\\n",
      "0                              0.64                                     0.821   \n",
      "1                              0.63                                     0.914   \n",
      "2                              0.90                                     0.842   \n",
      "3                              0.69                                     0.824   \n",
      "4                              0.97                                     0.806   \n",
      "5                              0.80                                     0.893   \n",
      "6                              0.94                                     0.886   \n",
      "7                              0.90                                     0.874   \n",
      "8                              1.00                                     0.871   \n",
      "9                              0.96                                     0.853   \n",
      "10                             0.82                                     0.839   \n",
      "12                             0.70                                     0.884   \n",
      "13                             0.90                                     0.864   \n",
      "14                             0.79                                     0.866   \n",
      "15                             0.60                                     0.914   \n",
      "16                             0.64                                     0.897   \n",
      "17                             0.56                                     0.817   \n",
      "18                             0.81                                     0.822   \n",
      "20                             0.97                                     0.890   \n",
      "21                             0.97                                     0.890   \n",
      "22                             0.87                                     0.879   \n",
      "23                             0.75                                     0.915   \n",
      "25                             0.78                                     0.868   \n",
      "26                             0.34                                     0.908   \n",
      "27                             0.60                                     0.898   \n",
      "28                             0.87                                     0.839   \n",
      "29                             0.63                                     0.913   \n",
      "30                             1.00                                     0.874   \n",
      "31                             0.69                                     0.828   \n",
      "32                             0.94                                     0.847   \n",
      "33                             0.76                                     0.843   \n",
      "34                             0.50                                     0.901   \n",
      "35                             0.75                                     0.876   \n",
      "36                             0.59                                     0.856   \n",
      "37                             0.87                                     0.891   \n",
      "38                             0.87                                     0.879   \n",
      "39                             1.00                                     0.847   \n",
      "40                             0.79                                     0.836   \n",
      "42                             0.82                                     0.831   \n",
      "43                             0.92                                     0.799   \n",
      "44                             0.82                                     0.904   \n",
      "45                             0.35                                     0.910   \n",
      "46                             0.89                                     0.866   \n",
      "47                             0.86                                     0.897   \n",
      "48                             0.55                                     0.828   \n",
      "49                             0.69                                     0.898   \n",
      "50                             0.31                                     0.918   \n",
      "\n",
      "    share_non_citizen  share_white_poverty  gini_index  share_non_white  \\\n",
      "0                0.02                 0.12       0.472             0.35   \n",
      "1                0.04                 0.06       0.422             0.42   \n",
      "2                0.10                 0.09       0.455             0.49   \n",
      "3                0.04                 0.12       0.458             0.26   \n",
      "4                0.13                 0.09       0.471             0.61   \n",
      "5                0.06                 0.07       0.457             0.31   \n",
      "6                0.06                 0.06       0.486             0.30   \n",
      "7                0.05                 0.08       0.440             0.37   \n",
      "8                0.11                 0.04       0.532             0.63   \n",
      "9                0.09                 0.11       0.474             0.46   \n",
      "10               0.08                 0.09       0.468             0.48   \n",
      "12               0.04                 0.11       0.433             0.16   \n",
      "13               0.07                 0.07       0.465             0.37   \n",
      "14               0.03                 0.12       0.440             0.20   \n",
      "15               0.03                 0.09       0.427             0.15   \n",
      "16               0.04                 0.11       0.445             0.25   \n",
      "17               0.03                 0.17       0.466             0.15   \n",
      "18               0.02                 0.12       0.475             0.42   \n",
      "20               0.08                 0.06       0.443             0.50   \n",
      "21               0.09                 0.08       0.475             0.27   \n",
      "22               0.04                 0.09       0.451             0.24   \n",
      "23               0.05                 0.05       0.440             0.18   \n",
      "25               0.02                 0.07       0.455             0.20   \n",
      "26               0.01                 0.10       0.435             0.10   \n",
      "27               0.05                 0.07       0.432             0.21   \n",
      "28               0.10                 0.08       0.448             0.50   \n",
      "29               0.03                 0.06       0.425             0.09   \n",
      "30               0.11                 0.07       0.464             0.44   \n",
      "31               0.06                 0.10       0.464             0.62   \n",
      "32               0.10                 0.10       0.499             0.42   \n",
      "33               0.05                 0.10       0.464             0.38   \n",
      "34               0.03                 0.09       0.433             0.15   \n",
      "35               0.03                 0.10       0.452             0.21   \n",
      "36               0.04                 0.10       0.454             0.35   \n",
      "37               0.07                 0.10       0.449             0.26   \n",
      "38               0.03                 0.09       0.461             0.24   \n",
      "39               0.08                 0.08       0.467             0.28   \n",
      "40               0.03                 0.09       0.461             0.36   \n",
      "42               0.04                 0.13       0.468             0.27   \n",
      "43               0.11                 0.08       0.469             0.56   \n",
      "44               0.04                 0.08       0.419             0.19   \n",
      "45               0.01                 0.10       0.444             0.06   \n",
      "46               0.06                 0.07       0.459             0.38   \n",
      "47               0.08                 0.09       0.441             0.31   \n",
      "48               0.01                 0.14       0.451             0.07   \n",
      "49               0.03                 0.09       0.430             0.22   \n",
      "50               0.02                 0.09       0.423             0.15   \n",
      "\n",
      "    avg_biascrimes_per_100k  \n",
      "0                  1.806410  \n",
      "1                  1.656700  \n",
      "2                  3.413928  \n",
      "3                  0.869209  \n",
      "4                  2.397986  \n",
      "5                  2.804689  \n",
      "6                  3.772701  \n",
      "7                  1.469980  \n",
      "8                 10.953480  \n",
      "9                  0.698070  \n",
      "10                 0.412012  \n",
      "12                 1.891331  \n",
      "13                 1.044016  \n",
      "14                 1.757357  \n",
      "15                 0.561396  \n",
      "16                 2.143987  \n",
      "17                 4.207890  \n",
      "18                 1.341170  \n",
      "20                 1.324840  \n",
      "21                 4.801899  \n",
      "22                 3.200442  \n",
      "23                 3.612412  \n",
      "25                 1.908955  \n",
      "26                 2.954959  \n",
      "27                 2.686248  \n",
      "28                 2.113990  \n",
      "29                 2.105989  \n",
      "30                 4.413203  \n",
      "31                 1.886435  \n",
      "32                 3.102164  \n",
      "33                 1.262680  \n",
      "34                 4.741070  \n",
      "35                 3.240420  \n",
      "36                 1.081672  \n",
      "37                 3.394886  \n",
      "38                 0.430928  \n",
      "39                 1.282572  \n",
      "40                 1.937083  \n",
      "42                 3.136051  \n",
      "43                 0.752768  \n",
      "44                 2.384065  \n",
      "45                 1.903081  \n",
      "46                 1.724755  \n",
      "47                 3.817740  \n",
      "48                 2.037054  \n",
      "49                 1.121945  \n",
      "50                 0.266941  \n"
     ]
    }
   ],
   "source": [
    "#Dropping the null values from the row\n",
    "Remove_row = dataframe_3.dropna()\n",
    "\n",
    "#Removing the entire column from the new dataframe\n",
    "#Using the axis key to remove only the column\n",
    "Remove_col = Remove_row.drop('share_voters_voted_to_the_right', axis=1)\n",
    "\n",
    "print(Remove_col)"
   ]
  },
  {
   "cell_type": "markdown",
   "metadata": {
    "deletable": false
   },
   "source": [
    "<p style=\"color:red; font-weight:bold; font-size:xx-small\">MARK: __%</p>\n",
    "<p style=\"color:red; font-weight:bold; font-size:xx-small\">FEEDBACK: </p>"
   ]
  },
  {
   "cell_type": "markdown",
   "metadata": {
    "deletable": false
   },
   "source": [
    "### Requirement FR11 - Investigate the effects of household income on levels of bias crimes"
   ]
  },
  {
   "cell_type": "code",
   "execution_count": 104,
   "metadata": {},
   "outputs": [
    {
     "data": {
      "image/png": "[encoded data removed]",
      "text/plain": [
       "<Figure size 432x288 with 1 Axes>"
      ]
     },
     "metadata": {
      "needs_background": "light"
     },
     "output_type": "display_data"
    },
    {
     "name": "stdout",
     "output_type": "stream",
     "text": [
      "Scatter plot helps in showing the relationship between Median Household Income and Bias Crimes (average per 100k). The plotted graph also identifies any correlation relationships between the two variables. I have added a trend line with the help of linear regression to understand the correlational relationship.\n",
      "        \n",
      "The trend line has a ‘positive gradient’ which can be seen in the graph, implying that increase in Household income does increase level of bias crimes in the society. However, the points on graph are more scattered around the trend line, meaning both the variables have weak relationship. Overall, there is an positive effect of Household Income on Level of Bias Crime, but the correlation relationship is insignificant.\n"
     ]
    }
   ],
   "source": [
    "#Extracting clean data from FR10\n",
    "dataframe_4 = Remove_col\n",
    "\n",
    "#Extracting the column data from dataframe_4\n",
    "household_income = dataframe_4[\"median_household_income\"]\n",
    "bias_crimes = dataframe_4[\"avg_biascrimes_per_100k\"]\n",
    "\n",
    "import numpy as np\n",
    "import matplotlib.pyplot as plt\n",
    "from scipy import stats\n",
    "\n",
    "# Household Income is the Independent variable\n",
    "# Bias Crimes is the Dependent variable\n",
    "#Arrays represent the values of the variables\n",
    "x_axis = np.array(household_income)\n",
    "y_axis = np.array(bias_crimes)\n",
    "\n",
    "# Using Machine learning and linear regression\n",
    "slope, intercept, r, p, std_err = stats.linregress(x_axis, y_axis)\n",
    "\n",
    "#Creating a function which uses slope and intercept values to return a new value\n",
    "def myfunction(x_axis):\n",
    "  return slope * x_axis + intercept\n",
    "\n",
    "#Running each value of x_axis via the function\n",
    "mygraph = list(map(myfunction, x_axis))\n",
    "\n",
    "plt.title(\"Effects of Household Income on levels of Bias Crimes\")\n",
    "plt.xlabel(\"Household Income (Median)\")\n",
    "plt.ylabel(\"Levels of Bias Crimes(Avg per 100k)\")\n",
    "\n",
    "#Drawing the scatter plot\n",
    "plt.scatter(x_axis, y_axis)\n",
    "\n",
    "#Drawing the liner regression line\n",
    "plt.plot(x_axis, mygraph)\n",
    "\n",
    "#Drawing the grid and displaying\n",
    "plt.grid()\n",
    "plt.show()\n",
    "\n",
    "print(\"Scatter plot helps in showing the relationship between Median Household Income and Bias Crimes (average per 100k). The plotted graph also identifies any correlation relationships between the two variables. I have added a trend line with the help of linear regression to understand the correlational relationship.\") \n",
    "print(\"        \")\n",
    "print(\"The trend line has a ‘positive gradient’ which can be seen in the graph, implying that increase in Household income does increase level of bias crimes in the society. However, the points on graph are more scattered around the trend line, meaning both the variables have weak relationship. Overall, there is an positive effect of Household Income on Level of Bias Crime, but the correlation relationship is insignificant.\") "
   ]
  },
  {
   "cell_type": "markdown",
   "metadata": {
    "deletable": false
   },
   "source": [
    "<p style=\"color:red; font-weight:bold; font-size:xx-small\">MARK: __%</p>\n",
    "<p style=\"color:red; font-weight:bold; font-size:xx-small\">FEEDBACK: </p>"
   ]
  },
  {
   "cell_type": "markdown",
   "metadata": {
    "deletable": false
   },
   "source": [
    "### Requirement FR12 - Test the hypothesis that household income has no effect on levels of bias crime"
   ]
  },
  {
   "cell_type": "code",
   "execution_count": 105,
   "metadata": {},
   "outputs": [
    {
     "name": "stdout",
     "output_type": "stream",
     "text": [
      "Correlation Coefficient Value: 0.2958187026076811\n",
      "          \n",
      "In order to test the hypothesis whether Household Income has any significant effect on the levels of bias crime, we can analysis the correlation coefficient value (r). The correlation coefficient value is a measure of any linear trend between two variables. The value of (r) ranges between -1 and 1.\n",
      "          \n",
      "Here the correlation coefficient value is ‘0.295’, implying there is a positive liner trend. However, the absolute value is close to zero, thus, the relationship is weak and can’t easily be visualized. Overall, there is a weak positive correlation between Household Income and Levels of Bias Crime.\n"
     ]
    }
   ],
   "source": [
    "# add code here\n",
    "\n",
    "from scipy import stats\n",
    "\n",
    "# Household Income is the Independent variable\n",
    "# Bias Crimes is the Dependent variable\n",
    "#Arrays represent the values of the variables\n",
    "x_axis = np.array(household_income)\n",
    "y_axis = np.array(bias_crimes)\n",
    "\n",
    "# Using Machine learning and linear regression\n",
    "slope, intercept, r, p, std_err = stats.linregress(x_axis, y_axis)\n",
    "\n",
    "# Generating R value from the liner regression\n",
    "print(\"Correlation Coefficient Value:\", r)\n",
    "print(\"          \")\n",
    "print(\"In order to test the hypothesis whether Household Income has any significant effect on the levels of bias crime, we can analysis the correlation coefficient value (r). The correlation coefficient value is a measure of any linear trend between two variables. The value of (r) ranges between -1 and 1.\")\n",
    "print(\"          \")\n",
    "print(\"Here the correlation coefficient value is ‘0.295’, implying there is a positive liner trend. However, the absolute value is close to zero, thus, the relationship is weak and can’t easily be visualized. Overall, there is a weak positive correlation between Household Income and Levels of Bias Crime.\")"
   ]
  },
  {
   "cell_type": "markdown",
   "metadata": {
    "deletable": false
   },
   "source": [
    "<p style=\"color:red; font-weight:bold; font-size:xx-small\">MARK: __%</p>\n",
    "<p style=\"color:red; font-weight:bold; font-size:xx-small\">FEEDBACK: </p>"
   ]
  },
  {
   "cell_type": "markdown",
   "metadata": {
    "deletable": false
   },
   "source": [
    "### Requirement FR13 - Investigate the effects of urbanisation on levels of bias crimes"
   ]
  },
  {
   "cell_type": "code",
   "execution_count": 106,
   "metadata": {},
   "outputs": [
    {
     "data": {
      "image/png": "[encoded data removed]",
      "text/plain": [
       "<Figure size 432x288 with 1 Axes>"
      ]
     },
     "metadata": {
      "needs_background": "light"
     },
     "output_type": "display_data"
    },
    {
     "name": "stdout",
     "output_type": "stream",
     "text": [
      "Scatter chart facilitates in demonstrating the relation between Share Population in Metro Area and Bias Crimes (average per 100k). The graph also identifies any correlation links that exist between the two variables. To better comprehend the correlational pattern, I generated a trend line using linear regression.\n",
      "                  \n",
      "The trend line has a 'positive gradient', as seen in the graph, meaning that a rise in Population in Metro Area increases the degree of bias offences in society. The dots on the graph, however, are more dispersed around the trend line, indicating that both variables have a weak association. Overall, Effects of Urbanisation has a favourable influence on Level of Bias Crime, although the statistical relationship is weak.\n"
     ]
    }
   ],
   "source": [
    "#Extracting clean data from FR10\n",
    "dataframe_4 = Remove_col\n",
    "\n",
    "#Extracting the column data from dataframe_4\n",
    "metroareas_population = dataframe_4[\"share_population_in_metro_areas\"]\n",
    "bias_crimes = dataframe_4[\"avg_biascrimes_per_100k\"]\n",
    "\n",
    "import numpy as np\n",
    "import matplotlib.pyplot as plt\n",
    "from scipy import stats\n",
    "\n",
    "# Metro areas population is the Independent variable\n",
    "# Bias Crimes is the Dependent variable\n",
    "# Arrays represent the values of the variables\n",
    "x_data = np.array(metroareas_population)\n",
    "y_data = np.array(bias_crimes)\n",
    "\n",
    "# Machine learning and linear regression\n",
    "slope, intercept, r, p, std_err = stats.linregress(x_data, y_data)\n",
    "\n",
    "#Creating a function which uses slope and intercept values to return a new value\n",
    "def myfunc(x_data):\n",
    "  return slope * x_data + intercept\n",
    "\n",
    "#Running each value of x_axis via the function\n",
    "mygraph2 = list(map(myfunc, x_data))\n",
    "\n",
    "plt.title(\"Effects of Urbanisation on Levels of Bias Crimes\")\n",
    "plt.xlabel(\"Household Income (Median)\")\n",
    "plt.ylabel(\"Levels of Bias Crimes(Avg per 100k)\")\n",
    "\n",
    "#Drawing the scatter plot\n",
    "plt.scatter(x_data, y_data)\n",
    "\n",
    "#Drawing the liner regression line\n",
    "plt.plot(x_data, mygraph2)\n",
    "\n",
    "#Drawing the grid and displaying\n",
    "plt.grid()\n",
    "plt.show()\n",
    "\n",
    "print(\"Scatter chart facilitates in demonstrating the relation between Share Population in Metro Area and Bias Crimes (average per 100k). The graph also identifies any correlation links that exist between the two variables. To better comprehend the correlational pattern, I generated a trend line using linear regression.\")\n",
    "print(\"                  \")\n",
    "print(\"The trend line has a 'positive gradient', as seen in the graph, meaning that a rise in Population in Metro Area increases the degree of bias offences in society. The dots on the graph, however, are more dispersed around the trend line, indicating that both variables have a weak association. Overall, Effects of Urbanisation has a favourable influence on Level of Bias Crime, although the statistical relationship is weak.\")"
   ]
  },
  {
   "cell_type": "markdown",
   "metadata": {
    "deletable": false
   },
   "source": [
    "<p style=\"color:red; font-weight:bold; font-size:xx-small\">MARK: __%</p>\n",
    "<p style=\"color:red; font-weight:bold; font-size:xx-small\">FEEDBACK: </p>"
   ]
  },
  {
   "cell_type": "markdown",
   "metadata": {
    "deletable": false
   },
   "source": [
    "### Requirement FR14 - Test the hypothesis that urbanisation has a significant effect on levels of bias crimes"
   ]
  },
  {
   "cell_type": "code",
   "execution_count": 107,
   "metadata": {},
   "outputs": [
    {
     "name": "stdout",
     "output_type": "stream",
     "text": [
      "Correlation Coefficient Value: 0.20946276809784967\n",
      "         \n",
      "The correlation coefficient value can be used to test the hypothesis that whether the share population of metro areas has a substantial impact on the levels of bias crime. The correlation coefficient value represents the magnitude of any linear trend between two variables.  The value of  (r) has a value between -1 and 1.\n",
      "          \n",
      "The correlation coefficient value in this case is '0.209', indicating a positive liner trend. However, because the absolute value is relatively close to zero, the correlation is weak and hard to comprehend. Overall, Urbanisation has a modest positive impact on Bias Crime Levels.\n"
     ]
    }
   ],
   "source": [
    "from scipy import stats\n",
    "\n",
    "# Metro areas population is the Independent variable\n",
    "# Bias Crimes is the Dependent variable\n",
    "# Arrays represent the values of the variables\n",
    "x = np.array(metroareas_population)\n",
    "y = np.array(bias_crimes)\n",
    "\n",
    "# Using Machine learning and linear regression\n",
    "slope, intercept, r, p, std_err = stats.linregress(x, y)\n",
    "\n",
    "# Generating R value from the liner regression\n",
    "print(\"Correlation Coefficient Value:\", r)\n",
    "print(\"         \")\n",
    "print(\"The correlation coefficient value can be used to test the hypothesis that whether the share population of metro areas has a substantial impact on the levels of bias crime. The correlation coefficient value represents the magnitude of any linear trend between two variables.  The value of  (r) has a value between -1 and 1.\")\n",
    "print(\"          \")\n",
    "print(\"The correlation coefficient value in this case is '0.209', indicating a positive liner trend. However, because the absolute value is relatively close to zero, the correlation is weak and hard to comprehend. Overall, Urbanisation has a modest positive impact on Bias Crime Levels.\")"
   ]
  },
  {
   "cell_type": "markdown",
   "metadata": {
    "deletable": false
   },
   "source": [
    "<p style=\"color:red; font-weight:bold; font-size:xx-small\">MARK: __%</p>\n",
    "<p style=\"color:red; font-weight:bold; font-size:xx-small\">FEEDBACK: </p>"
   ]
  },
  {
   "cell_type": "markdown",
   "metadata": {
    "deletable": false
   },
   "source": [
    "# Coding Standards\n",
    "<p style=\"color:red; font-weight:bold; font-size:xx-small\">MARK: __%</p>\n",
    "<p style=\"color:red; font-weight:bold; font-size:xx-small\">FEEDBACK: </p>"
   ]
  },
  {
   "cell_type": "markdown",
   "metadata": {},
   "source": [
    "# Process Development Report for Task 2\n"
   ]
  },
  {
   "cell_type": "markdown",
   "metadata": {},
   "source": [
    "#FR9\n",
    "- To solve this task I did the Week8 tasks again, and utilized my knowledge about pandas in the task.\n",
    "- I used 'pd.merge(dataset1, dataset2 , on=\"Id\") to merge the datasets with one-to-one joins. \n",
    "- Strengths: In the pd.merge() I used the ON key. This is beneficial to name the key column in the new combined dataframe.\n",
    "\n",
    "\n",
    "#FR10\n",
    "- To complete this task, I revisited the Week8 tasks and used my understanding of pandas to clean the merged data.\n",
    "- I used dropna() code to remove the null values from row, and used drop() code to remove the entire column.\n",
    "- Strengths: In the drop() code I used the AXIS key. This is beneficial when identifying whether to remove a column or a row.\n",
    "\n",
    "#FR11\n",
    "- First, I imported 'numpy' and 'matplotlib.pyplot' to examine the dataframe and plot the scatter chart.\n",
    "- To approach this task, first I studied about Scatter graphs and machine learning via different Online and Module resources.\n",
    "- Strengths: I used the linear regression pseudo code to generate the line-of-best-fit on the plot. This trend line was extremely beneficial in analysing the relationship of both the variables. \n",
    "- Another Approach: We can also import 'linear_model' from 'sklearn' package to generate a trend line for regression.\n",
    "\n",
    "#FR12\n",
    "- I directly approached this task to produce the R value with the help of the similiar linear regression formula from FR11.\n",
    "- I also imported 'stats' from 'scipy' package to help me in generating the value.\n",
    "- Strengths: The linear regression pseudo code is beneficial in generating different values like, R, Gradient, Intercept, Std.\n",
    "- Another Approach: We can also import 'numpy' package and generate the R value.\n",
    "\n",
    "#FR13\n",
    "- First, I imported 'numpy' and 'matplotlib.pyplot' to examine the dataframe and plot the scatter chart.\n",
    "- To approach this task, I leveraged the same understanding from FR11 task, altered the variables and data to establish a new graph.\n",
    "- Strengths: I used the plt.grid() code to make graph more visually appealing and easy to comprehend.\n",
    "- Strengths: I generated the line-of-best-fit on the plot using the linear regression pseudo code. The trend line proved tremendously significant in analysing the relationship between both variables.\n",
    "- Another Approach: We can also import 'linear_model' from 'sklearn' package to generate a trend line for regression.\n",
    "\n",
    "\n",
    "#FR14\n",
    "- First, I imported 'stats' from 'scipy' package to help me in generating the value.\n",
    "- Then, I addressed this task directly to generate the R value using the similar linear regression algorithm from FR13.\n",
    "- Strengths: The linear regression pseudo code is useful for producing variables such as R, Gradient, Intercept, and Std. \n",
    "- Another Approach: We can also import 'numpy' package and generate the R value.\n"
   ]
  },
  {
   "cell_type": "markdown",
   "metadata": {},
   "source": [
    "<p style=\"color:red; font-weight:bold; font-size:xx-small\">MARK: __%</p>\n",
    "<p style=\"color:red; font-weight:bold; font-size:xx-small\">FEEDBACK: </p>"
   ]
  },
  {
   "cell_type": "code",
   "execution_count": null,
   "metadata": {},
   "outputs": [],
   "source": []
  }
 ],
 "metadata": {
  "kernelspec": {
   "display_name": "Python 3",
   "language": "python",
   "name": "python3"
  },
  "language_info": {
   "codemirror_mode": {
    "name": "ipython",
    "version": 3
   },
   "file_extension": ".py",
   "mimetype": "text/x-python",
   "name": "python",
   "nbconvert_exporter": "python",
   "pygments_lexer": "ipython3",
   "version": "3.8.8"
  }
 },
 "nbformat": 4,
 "nbformat_minor": 4
}
