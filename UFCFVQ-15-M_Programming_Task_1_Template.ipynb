{
 "cells": [
  {
   "cell_type": "markdown",
   "metadata": {},
   "source": [
    "# UFCFVQ-15-M Programming for Data Science (Autumn 2021)\n",
    "# Programming Task 1\n",
    "\n",
    "## Student Id: 21042301"
   ]
  },
  {
   "cell_type": "markdown",
   "metadata": {
    "deletable": false
   },
   "source": [
    "<p style=\"color:red; font-weight:bold; font-size:xx-small\">OVERALL COURSEWORK MARK: ___%</p>"
   ]
  },
  {
   "cell_type": "markdown",
   "metadata": {
    "deletable": false
   },
   "source": [
    "### Requirement FR1 - Develop a function to find the arithmetic mean"
   ]
  },
  {
   "cell_type": "code",
   "execution_count": 601,
   "metadata": {},
   "outputs": [
    {
     "name": "stdout",
     "output_type": "stream",
     "text": [
      "Arithmetic Mean: 15.333333333333334\n"
     ]
    }
   ],
   "source": [
    "#Creating a variable key for list of numbers\n",
    "listofnumber= [6, 2, 22, 21, 24, 23, 8, 9, 5, 3, 11, 28, 14, 13, 12, 26, 29, 16, 15, 20, 25, 1, 10, 18, 27, 19, 7]\n",
    "\n",
    "#Developing a Mean Function for the listofnumbers\n",
    "def Arithmetic_mean(listofnumber):\n",
    "    return sum(listofnumber)/len(listofnumber)\n",
    "print(\"Arithmetic Mean:\",Arithmetic_mean(listofnumber))\n"
   ]
  },
  {
   "cell_type": "markdown",
   "metadata": {
    "deletable": false
   },
   "source": [
    "<p style=\"color:red; font-weight:bold; font-size:xx-small\">MARK: __%</p>\n",
    "<p style=\"color:red; font-weight:bold; font-size:xx-small\">FEEDBACK: </p>"
   ]
  },
  {
   "cell_type": "markdown",
   "metadata": {
    "deletable": false
   },
   "source": [
    "### Requirement FR2 - Develop a function to find the standard deviation"
   ]
  },
  {
   "cell_type": "code",
   "execution_count": 602,
   "metadata": {},
   "outputs": [
    {
     "name": "stdout",
     "output_type": "stream",
     "text": [
      "Standard Deviation: 8.393118874676114\n"
     ]
    }
   ],
   "source": [
    "#Developing a std function for the listofnumbers\n",
    "def std(listofnumber):\n",
    "    Population_size=len(listofnumber)\n",
    "    Population_mean=sum(listofnumber)/Population_size\n",
    "    Variance=sum((x-Population_mean)**2 for x in listofnumber)/Population_size\n",
    "    std_dev=Variance**0.5\n",
    "    \n",
    "    #Return keyword allows to exit the function\n",
    "    return std_dev\n",
    "\n",
    "print(\"Standard Deviation:\",std(listofnumber))"
   ]
  },
  {
   "cell_type": "markdown",
   "metadata": {
    "deletable": false
   },
   "source": [
    "<p style=\"color:red; font-weight:bold; font-size:xx-small\">MARK: __%</p>\n",
    "<p style=\"color:red; font-weight:bold; font-size:xx-small\">FEEDBACK: </p>"
   ]
  },
  {
   "cell_type": "markdown",
   "metadata": {
    "deletable": false
   },
   "source": [
    "### Requirement FR3 - Develop a function to find the min/max values and count "
   ]
  },
  {
   "cell_type": "code",
   "execution_count": 603,
   "metadata": {},
   "outputs": [
    {
     "name": "stdout",
     "output_type": "stream",
     "text": [
      "Minimum Value: 1\n",
      "Maximum Value: 29\n",
      "Count: 27\n"
     ]
    }
   ],
   "source": [
    "# Function for Minimum Value\n",
    "def mini_value(listofnumber):\n",
    "    #Creating a variable to keep the minimum value still the minimum value through the iteration\n",
    "    minimum=None\n",
    "    #iterating through the given list\n",
    "    for value in listofnumber:\n",
    "        if minimum == None or minimum>value:\n",
    "            minimum = value\n",
    "    return minimum\n",
    "print(\"Minimum Value:\",mini_value(listofnumber))\n",
    "\n",
    "\n",
    "# Function for Maximum Value\n",
    "def max_value(listofnumber):\n",
    "    #Creating a variable to keep the maximum value still the maximum value through the iteration\n",
    "    maximum=None\n",
    "    #iterating through the given list\n",
    "    for value in listofnumber:\n",
    "        if maximum == None or maximum<value:\n",
    "            maximum = value\n",
    "    return maximum\n",
    "print(\"Maximum Value:\",max_value(listofnumber))\n",
    "\n",
    "\n",
    "# Function for Count\n",
    "def list_count(listofnumber):\n",
    "    #Creating a variable to keep the count value still the count value through the iteration\n",
    "    count=0\n",
    "    #iterating through the given list\n",
    "    for num in listofnumber:\n",
    "        #when the number in the list is zero\n",
    "        if num == 0:\n",
    "            count = count + 1 \n",
    "        #when the number in the list is positive\n",
    "        if num != 0:\n",
    "            num = num//10\n",
    "            count = count+ 1\n",
    "    return count\n",
    "\n",
    "print (\"Count:\", list_count(listofnumber))"
   ]
  },
  {
   "cell_type": "markdown",
   "metadata": {
    "deletable": false
   },
   "source": [
    "<p style=\"color:red; font-weight:bold; font-size:xx-small\">MARK: __%</p>\n",
    "<p style=\"color:red; font-weight:bold; font-size:xx-small\">FEEDBACK: </p>"
   ]
  },
  {
   "cell_type": "markdown",
   "metadata": {
    "deletable": false
   },
   "source": [
    "### Requirement FR4 - Develop a function to find the 25th, 50th and 75th percentiles "
   ]
  },
  {
   "cell_type": "code",
   "execution_count": 604,
   "metadata": {},
   "outputs": [
    {
     "name": "stdout",
     "output_type": "stream",
     "text": [
      "25th Percentile: 8\n",
      "50th Percentile: 15\n",
      "75th Percentile: 23\n"
     ]
    }
   ],
   "source": [
    "# Function for 25th percentiles \n",
    "def Twentyfive_perc(listofnumber):\n",
    "    #Sorting the list\n",
    "    listofnumber.sort()\n",
    "    #when we have odd number of items in the list\n",
    "    if len(listofnumber)% 4 != 0:\n",
    "        Twentyfive_ind = int((len(listofnumber)-1)/4)\n",
    "        return listofnumber[Twentyfive_ind]\n",
    "    #when we have even number of items in the list \n",
    "    elif len(listofnumber)% 4 == 0:\n",
    "        Twentyfive_ind_1 = int(len(listofnumber)/4)\n",
    "        Twentyfive_ind_2 = int(len(listofnumber)/4)-1\n",
    "        return (Arithmetic_mean([listofnumber[Twentyfive_ind_1],listofnumber[Twentyfive_ind_2]]))\n",
    "\n",
    "print(\"25th Percentile:\", Twentyfive_perc(listofnumber))\n",
    "\n",
    "\n",
    "# Function for 50th percentiles (Medium)\n",
    "def Fifty_perc(listofnumber):\n",
    "    #Sorting the list\n",
    "    listofnumber.sort()\n",
    "    #when we have odd number of items in the list\n",
    "    if len(listofnumber)% 2 != 0:\n",
    "        Fifty_ind = int((len(listofnumber)-1)/2)\n",
    "        return listofnumber[Fifty_ind]\n",
    "    #when we have even number of items in the list \n",
    "    elif len(listofnumber)% 2 == 0:\n",
    "        Fifty_ind_1 = int(len(listofnumber)/2)\n",
    "        Fifty_ind_2 = int(len(listofnumber)/2)-1\n",
    "        return (Arithmetic_mean([listofnumber[Fifty_ind_1],listofnumber[Fifty_ind_2]]))\n",
    "  \n",
    "    \n",
    "print(\"50th Percentile:\", Fifty_perc(listofnumber))\n",
    "\n",
    "\n",
    "# Function for 75th percentiles \n",
    "def Seventyfive_perc(listofnumber):\n",
    "    #Sorting the list\n",
    "    listofnumber.sort()\n",
    "    #when we have odd number of items in the list\n",
    "    if len(listofnumber)% 1.3333 != 0:\n",
    "        Seventyfive_ind = int((len(listofnumber)-1)*10/13)\n",
    "        return listofnumber[Seventyfive_ind]\n",
    "    #when we have even number of items in the list \n",
    "    elif len(listofnumber)% 1.3333 == 0:\n",
    "        Seventyfive_ind_1 = int(len(listofnumber)*10/13)\n",
    "        Seventyfive_ind_2 = int(len(listofnumber)*10/13)-1\n",
    "        return (Arithmetic_mean([listofnumber[Seventyfive_ind_1],listofnumber[Seventyfive_ind_2]]))\n",
    "  \n",
    "    \n",
    "print(\"75th Percentile:\", Seventyfive_perc(listofnumber))\n"
   ]
  },
  {
   "cell_type": "markdown",
   "metadata": {
    "deletable": false
   },
   "source": [
    "<p style=\"color:red; font-weight:bold; font-size:xx-small\">MARK: __%</p>\n",
    "<p style=\"color:red; font-weight:bold; font-size:xx-small\">FEEDBACK: </p>"
   ]
  },
  {
   "cell_type": "markdown",
   "metadata": {
    "deletable": false
   },
   "source": [
    "### Requirement FR5 - Develop a function to read a single column from a CSV file"
   ]
  },
  {
   "cell_type": "code",
   "execution_count": 606,
   "metadata": {},
   "outputs": [
    {
     "name": "stdout",
     "output_type": "stream",
     "text": [
      "File name (\"filename.csv\"):task1.csv\n",
      "Column Number:0\n",
      "Column Name: Hydropower\n",
      "Column Data: ['0.117,41.64945459,17.26791,37.52781287,1.76795,0.885632595,0.45726487,0.284810423,387.6868063,5.125584584,244.839096,387.2508762,23.14438369,1202.43,56.64701407,7.512550207,0,1.6272,0.016454789,20.69612073,13.48338,0.015617162,38.93203591,13.27777778,64.2234218,16.9,5.720179713,0,0.221,13.81099543,139.6678322,16.4112,10.77,3.1074588,0.694087982,0.0245,45.85205715,80.997,10.3295118,0,2.433342329,0.45,0.094557415,1.791368,24.17649672,32.39511459,1.6934,0.072348,26.32037732,138.4962175,0,62.91198244,35.20305729,2.255678699,1.288541272,0.0165,69.46684307,1.852952842,35.99700727,30.76868807,9.383758,1.971,12.346,0,17.56396055,190.21311,0,0,3.591,4.712487886,0.914864856,2.920390756,35.19825724,6.369370161,61.91687566,34.80394017,4.4661,7.597013,0,59.51828075,0,9.900734781,0,5.464660531,288.7063404,6.868202,72.08394993,80.70625435']\n"
     ]
    }
   ],
   "source": [
    "def task1_file():\n",
    "    #Creating Userinput for any csv file\n",
    "    userinput = input('File name (\"filename.csv\"):')\n",
    "    \n",
    "    #Creating input for any column in the file\n",
    "    x = int(input(\"Column Number:\"))\n",
    "    f = open(userinput, 'r')\n",
    "    \n",
    "    #returning a list containing each line in the file as a list item\n",
    "    lines = f.readlines()\n",
    "    \n",
    "    #Splitting a string into a list\n",
    "    m = lines[0].split(',')[x]\n",
    "    print(\"Column Name:\",m)\n",
    "    \n",
    "    #Developing an algorithm for column data for the exact range\n",
    "    s = [lines[y].strip().split(',')[x] for y in range(1,len(lines))]\n",
    "    print(\"Column Data:\",[','.join(s)])\n",
    "        \n",
    "        \n",
    "task1_file()"
   ]
  },
  {
   "cell_type": "markdown",
   "metadata": {
    "deletable": false
   },
   "source": [
    "<p style=\"color:red; font-weight:bold; font-size:xx-small\">MARK: __%</p>\n",
    "<p style=\"color:red; font-weight:bold; font-size:xx-small\">FEEDBACK: </p>"
   ]
  },
  {
   "cell_type": "markdown",
   "metadata": {
    "deletable": false
   },
   "source": [
    "### Requirement FR6 - Develop a function to read CSV data from a file into memory"
   ]
  },
  {
   "cell_type": "code",
   "execution_count": 607,
   "metadata": {
    "scrolled": true
   },
   "outputs": [
    {
     "name": "stdout",
     "output_type": "stream",
     "text": [
      "{'hydro_heading': ['0.117', '41.64945459', '17.26791', '37.52781287', '1.76795', '0.885632595', '0.45726487', '0.284810423', '387.6868063', '5.125584584', '244.839096', '387.2508762', '23.14438369', '1202.43', '56.64701407', '7.512550207', '0', '1.6272', '0.016454789', '20.69612073', '13.48338', '0.015617162', '38.93203591', '13.27777778', '64.2234218', '16.9', '5.720179713', '0', '0.221', '13.81099543', '139.6678322', '16.4112', '10.77', '3.1074588', '0.694087982', '0.0245', '45.85205715', '80.997', '10.3295118', '0', '2.433342329', '0.45', '0.094557415', '1.791368', '24.17649672', '32.39511459', '1.6934', '0.072348', '26.32037732', '138.4962175', '0', '62.91198244', '35.20305729', '2.255678699', '1.288541272', '0.0165', '69.46684307', '1.852952842', '35.99700727', '30.76868807', '9.383758', '1.971', '12.346', '0', '17.56396055', '190.21311', '0', '0', '3.591', '4.712487886', '0.914864856', '2.920390756', '35.19825724', '6.369370161', '61.91687566', '34.80394017', '4.4661', '7.597013', '0', '59.51828075', '0', '9.900734781', '0', '5.464660531', '288.7063404', '6.868202', '72.08394993', '80.70625435'], 'solar_heading': ['0.603', '0.108128528', '12.081099', '1.578641473', '0.03926', '0.299208359', '0.134485968', '3.971724224', '3.137078404', '1.103538835', '0.881300118', '3.5462509', '5.118720829', '177.5', '0.011999821', '0.073591668', '0.19183', '2.3386', '0.952973', '0.037991538', '1.035739071', '0.012679515', '0.441810565', '0.1622', '10.15871272', '46.164', '3.791092002', '0.000961', '0.588876056', '0', '30.73240318', '0.01836', '0.037698887', '0.057143443', '0.022173967', '1.793230515', '23.23072906', '71.6883359', '0.1146904', '0.088143148', '0.001263953', '0.08', '0.117480937', '0.022788', '0.459692933', '2.2428', '0.9502', '3.2012', '0.098244292', '0.064488547', '0.013718674', '0.585723529', '0.01484375', '0.697743206', '3.020039802', '0.111623598', '0.675171297', '0.128029166', '2.12332226', '0.745192715', '1.249117', '0.299', '1.02', '0.009423834', '1.674', '0.57106', '0.154871783', '0.283982555', '0.585', '0.253621', '4.935234819', '9.349876912', '12.52057273', '0.205337811', '0.373100151', '1.957371429', '2.733', '4.719656655', '0.003989071', '7.890694078', '0.00696', '1.286493457', '0.9468835', '12.92181535', '97.11818182', '0', '0.010008089', '0.080231508'], 'wind_heading': ['0.01', '1.412699784', '16.266484', '5.900014713', '0.0822', '0.005086066', '0.117978175', '7.468573702', '48.47990705', '1.378292235', '0.977082975', '32.17005152', '3.688710149', '366', '0.043437355', '1.379085419', '0.22061', '0.6093', '13.89880328', '0.080257771', '2.438966811', '0.633888557', '0.531134615', '5.857', '28.16738103', '111.59', '6.300269103', '0.000825', '0.608', '0.004365699', '60.31116', '0.198', '0.361973742', '0', '8.390989769', '0.105269485', '17.47251773', '6.789652', '0.5412648', '0.017452186', '0.123287671', '1.145', '0.307147387', '0.097338', '0', '12.62920683', '3.8407', '10.549225', '2.046003874', '3.875881', '0', '0.497064956', '0.0079', '1.428156269', '0.574940541', '0.453', '4.80031359', '0', '1.72268087', '1.493633864', '1.152924', '12.845', '12.657', '0', '6.497', '0.22774', '0', '0', '0.005', '0.006159', '6.894765181', '2.40369047', '50.83600814', '0.305662189', '16.81339144', '0.133', '1.6794', '0.76415852', '0', '19.825697', '0', '1.1274', '0.00075', '57.11571962', '277.7291061', '0', '0', '0.326664064'], 'other_heading': ['0', '2.29693941', '3.539346', '4.763252129', '0.0811', '0.008019927', '0.109149431', '5.427544126', '52.88998503', '0.496261903', '0.679177831', '9.588635536', '6.737367486', '90.72346175', '2.088838157', '0.682716361', '0.05136', '4.7285', '6.119796142', '0.427967651', '0', '1.369850244', '0.23331662', '12.86168421', '8.521197318', '51.437', '0.298303335', '0.100724044', '2.371182482', '6.009414916', '30.45869682', '14.5368', '0.021740437', '0', '1.242427268', '0.115', '25.31219835', '33.6554308', '0.0024284', '0', '0.962146042', '0.47', '0.226101964', '0.05405', '1.004339878', '6.480283932', '0', '4.875860296', '8.320907599', '0.178266653', '0', '0.163131005', '0.022', '1.39699069', '0.0041', '', '2.647315578', '0.222533905', '1.667658529', '0.674414968', '11.540128', '6.331', '3.439', '0.114486339', '0.4617102', '0.4645', '0', '0.903', '1.419478261', '0.28827567', '0.530431005', '10.1747942', '7.378921565', '0.11339364', '11.85871366', '1.974071402', '2.01435', '12.31650175', '0', '9.983786807', '0', '0.218506543', '0.005983607', '35.58660245', '83.67703684', '0', '0', '0.060833333']}\n"
     ]
    }
   ],
   "source": [
    "\n",
    "    f = open('task1.csv', 'r')\n",
    "    lines = f.readlines()\n",
    "    \n",
    "    #Creating keys for the dictionary \n",
    "    hydro_heading = lines[0].split(',')[0]\n",
    "    solar_heading = lines[0].split(',')[1]\n",
    "    wind_heading = lines[0].split(',')[2]\n",
    "    other_heading = lines[0].strip().split(',')[3]\n",
    "    \n",
    "    #Creating variables for the dictionary\n",
    "    hydro_data = [lines[y].split(',')[0] for y in range(1,len(lines))]\n",
    "    solar_data = [lines[y].split(',')[1] for y in range(1,len(lines))]\n",
    "    wind_data = [lines[y].split(',')[2] for y in range(1,len(lines))]\n",
    "    other_data = [lines[y].strip().split(',')[3] for y in range(1,len(lines))]\n",
    "    \n",
    "    thisdict = {\n",
    "    \"hydro_heading\": (hydro_data),\n",
    "    \"solar_heading\": (solar_data),\n",
    "    \"wind_heading\": (wind_data),\n",
    "    \"other_heading\":(other_data),    \n",
    "           \n",
    "    }\n",
    "    print(thisdict)\n"
   ]
  },
  {
   "cell_type": "markdown",
   "metadata": {
    "deletable": false
   },
   "source": [
    "<p style=\"color:red; font-weight:bold; font-size:xx-small\">MARK: __%</p>\n",
    "<p style=\"color:red; font-weight:bold; font-size:xx-small\">FEEDBACK: </p>"
   ]
  },
  {
   "cell_type": "markdown",
   "metadata": {
    "deletable": false
   },
   "source": [
    "### Requirement FR7 - Develop a function to generate a set of statistics for a given data file"
   ]
  },
  {
   "cell_type": "code",
   "execution_count": 608,
   "metadata": {},
   "outputs": [
    {
     "name": "stdout",
     "output_type": "stream",
     "text": [
      "{'Stats': ['Count', 'Mean', 'Stdev', 'Min', '25th', '50th', '75th', 'Max'], '                                               Hydropower': [88, 48.821284107874995, 143.61156541119564, 0.0, 0.7898602885, 7.5547816035, 35.99700727, 1202.43], '                  Solarpower': [88, 6.617743776193181, 23.050166228825766, 0.0, 0.08011575400000001, 0.5853617645, 2.733, 177.5], '                  Windpower': [88, 14.380072730647731, 50.17237934719127, 0.0, 0.0812288855, 0.8706207475, 6.789652, 366.0], '                           Otherpower': [88, 14.380072730647731, 50.17237934719127, 0.0, 0.0812288855, 0.8706207475, 6.789652, 366.0]}\n"
     ]
    }
   ],
   "source": [
    "#Creating different variables for Hydropower Statistics\n",
    "H = thisdict[\"hydro_heading\"]\n",
    "H= [float(i) for i in H]\n",
    "Hydrocount = list_count(H)\n",
    "Hydromean = Arithmetic_mean(H)\n",
    "Hydrostd = std(H)\n",
    "Hydromini= mini_value(H)\n",
    "Hydro25 = Twentyfive_perc(H)\n",
    "Hydro50= Fifty_perc(H)\n",
    "Hydro75 = Seventyfive_perc(H)\n",
    "Hydromax = max_value(H)\n",
    "\n",
    "#Creating different variables for Solarpower Statistics\n",
    "S = thisdict[\"solar_heading\"]\n",
    "S = [float(i) for i in S]\n",
    "Solarcount = list_count(S)\n",
    "Solarmean = Arithmetic_mean(S)\n",
    "Solarstd = std(S)\n",
    "Solarmini= mini_value(S)\n",
    "Solar25 = Twentyfive_perc(S)\n",
    "Solar50= Fifty_perc(S)\n",
    "Solar75 = Seventyfive_perc(S)\n",
    "Solarmax = max_value(S)\n",
    "    \n",
    "#Creating different variables for Windpower Statistics\n",
    "W = thisdict[\"wind_heading\"]\n",
    "W = [float(i) for i in W]\n",
    "Windcount = list_count(W)\n",
    "Windmean = Arithmetic_mean(W)\n",
    "Windstd = std(W)\n",
    "Windmini= mini_value(W)\n",
    "Wind25 = Twentyfive_perc(W)\n",
    "Wind50= Fifty_perc(W)\n",
    "Wind75 = Seventyfive_perc(W)\n",
    "Windmax = max_value(W)\n",
    "\n",
    "#Creating different variables for Statistics\n",
    "O = thisdict[\"wind_heading\"]\n",
    "O = [float(i) for i in O]\n",
    "Othercount = list_count(O)\n",
    "Othermean = Arithmetic_mean(O)\n",
    "Otherstd = std(O)\n",
    "Othermini= mini_value(O)\n",
    "Other25 = Twentyfive_perc(O)\n",
    "Other50= Fifty_perc(O)\n",
    "Other75 = Seventyfive_perc(O)\n",
    "Othermax = max_value(O)\n",
    "    \n",
    "    \n",
    "\n",
    "dict = {\n",
    "        \"Stats\": [\"Count\",\"Mean\",\"Stdev\",\"Min\",\"25th\",\"50th\",\"75th\",\"Max\"],'                                               '\n",
    "        \"Hydropower\": [Hydrocount, Hydromean, Hydrostd, Hydromini, Hydro25, Hydro50, Hydro75, Hydromax],'                  '\n",
    "        \"Solarpower\": [Solarcount, Solarmean, Solarstd, Solarmini, Solar25, Solar50, Solar75, Solarmax],'                  '\n",
    "        \"Windpower\": [Windcount, Windmean, Windstd, Windmini, Wind25, Wind50, Wind75, Windmax],'                           '\n",
    "        \"Otherpower\": [Othercount, Othermean, Otherstd, Othermini, Other25, Other50, Other75, Othermax],\n",
    "\n",
    "    }\n",
    "    \n",
    "print(dict)\n"
   ]
  },
  {
   "cell_type": "markdown",
   "metadata": {
    "deletable": false
   },
   "source": [
    "<p style=\"color:red; font-weight:bold; font-size:xx-small\">MARK: __%</p>\n",
    "<p style=\"color:red; font-weight:bold; font-size:xx-small\">FEEDBACK: </p>"
   ]
  },
  {
   "cell_type": "markdown",
   "metadata": {
    "deletable": false
   },
   "source": [
    "### Requirement FR8 - Develop a function to print a custom table"
   ]
  },
  {
   "cell_type": "code",
   "execution_count": 609,
   "metadata": {},
   "outputs": [
    {
     "name": "stdout",
     "output_type": "stream",
     "text": [
      "      | Hydropower | Solarpower | Windpower | Other |\n",
      "Count      88.00        88.00       88.00     88.00\n",
      "Mean       48.82         6.62       14.38     14.38\n",
      "Stdev     143.61        23.05       50.17     50.17\n",
      "Min         0.00         0.00        0.00      0.00\n",
      "25th        0.79         0.08        0.08      0.08\n",
      "50th        7.55         0.59        0.87      0.87\n",
      "75th       36.00         2.73        0.08      6.79\n",
      "Max      1202.43       177.50      366.00    366.00\n"
     ]
    }
   ],
   "source": [
    "#Changing all the values in the table to two decimal places\n",
    "print(\"      | Hydropower | Solarpower | Windpower | Other |\")\n",
    "print('Count','    ', \"{:.2f}\".format(Hydrocount),'    ',' ',\"{:.2f}\".format(Solarcount),'    ','',\"{:.2f}\".format(Windcount),'  ','',\"{:.2f}\".format(Othercount)), \n",
    "print('Mean' ,'     ', \"{:.2f}\".format(Hydromean) ,'    ','  ',\"{:.2f}\".format(Solarmean) ,'   ',' ',\"{:.2f}\".format(Windmean),'  ','',\"{:.2f}\".format(Othermean)), \n",
    "print('Stdev','   ', \"{:.2f}\".format(Hydrostd)  ,'    ',' ',\"{:.2f}\".format(Solarstd)  ,'    ','',\"{:.2f}\".format(Windstd)  ,'  ','',\"{:.2f}\".format(Otherstd)),\n",
    "print( 'Min' ,'       ', \"{:.2f}\".format(Hydromini) ,'    ','  ',\"{:.2f}\".format(Solarmini) ,'    ',' ',\"{:.2f}\".format(Windmini) ,'  ',' ',\"{:.2f}\".format(Othermini)),\n",
    "print('25th' ,'      ', \"{:.2f}\".format(Hydro25)   ,'    ','  ',\"{:.2f}\".format(Solar25)   ,'    ',' ',\"{:.2f}\".format(Wind25)   ,'  ',' ',\"{:.2f}\".format(Other25)),\n",
    "print('50th' ,'      ', \"{:.2f}\".format(Hydro50)   ,'    ','  ',\"{:.2f}\".format(Solar50)   ,'    ',' ',\"{:.2f}\".format(Wind50)   ,'  ',' ',\"{:.2f}\".format(Other50)),\n",
    "print('75th' ,'     ', \"{:.2f}\".format(Hydro75)   ,'    ','  ',\"{:.2f}\".format(Solar75)   ,'    ',' ',\"{:.2f}\".format(Wind25)   ,'  ',' ',\"{:.2f}\".format(Other75)),\n",
    "print('Max'  ,'    ', \"{:.2f}\".format(Hydromax)  ,'    ','',\"{:.2f}\".format(Solarmax)  ,'   ','',\"{:.2f}\".format(Windmax)  ,'',' ',\"{:.2f}\".format(Othermax))\n",
    "\n",
    "\n"
   ]
  },
  {
   "cell_type": "markdown",
   "metadata": {
    "deletable": false
   },
   "source": [
    "<p style=\"color:red; font-weight:bold; font-size:xx-small\">MARK: __%</p>\n",
    "<p style=\"color:red; font-weight:bold; font-size:xx-small\">FEEDBACK: </p>"
   ]
  },
  {
   "cell_type": "markdown",
   "metadata": {
    "deletable": false
   },
   "source": [
    "# Coding Standards\n",
    "<p style=\"color:red; font-weight:bold; font-size:xx-small\">MARK: __%</p>\n",
    "<p style=\"color:red; font-weight:bold; font-size:xx-small\">FEEDBACK: </p>"
   ]
  },
  {
   "cell_type": "markdown",
   "metadata": {
    "deletable": false
   },
   "source": [
    "# Process Development Report for Task 1\n"
   ]
  },
  {
   "cell_type": "markdown",
   "metadata": {},
   "source": [
    "#FR1\n",
    "- Before beginning this task, I reviewed my knowledge of mean, median, mode, and range and then I contructed the formula.\n",
    "- Another Approach: We can also directly import the 'Statistics' module and use the statistics.mean code to calculate the mean.\n",
    "\n",
    "#FR2\n",
    "- Before dealing with this task, first I improved my understanding of Statistical forumlas to build the std formula from scratch. \n",
    "- Another Approach: We can also directly import the 'numpy' module and use the numpy.std code to calculate the standard deviation.\n",
    "\n",
    "#FR3\n",
    "- My approach for this task was by first understanding the FOR loop, then I carried out trial and error unitl I achieved the results.\n",
    "- Strengths:I created a new variable to keep the output value same as the output value through out the iteration.\n",
    "- Another Approach: We can also directly use the Max() and Mini() function in the python to achieve the same results.\n",
    "\n",
    "#FR4\n",
    "- My approach for this task was by first finding out the median of the list. Once I was able to find the median, I just altered the coding and applied the same concept to 25th and 75th percentile. \n",
    "-Strengths: Within the coding, the list is first separated between odd and even via IF and Elif, which gives much accurate results.\n",
    "- Another Approach: We can also directly import 'numpy' and use numpy.percentile code to achieve the same results.\n",
    "\n",
    "#FR5\n",
    "- Before dealing with this task, first I improved my understanding of dataframes and datasets in python.\n",
    "- Strengths: I have created two input parameters 'file name' and 'column number', in this parameter you can enter any csv file and its column number to attain the output column data.\n",
    "- Another Approach: We can directly import 'Pandas' module to sort and split the dataframe.\n",
    "\n",
    "#FR6\n",
    "- My approach for this task was by directly generating the variables with the help of the formula from the FR5.\n",
    "- Strengths:The Dictionary makes my code more readable. It also adds a layer of documentation to the code by writing out Python dictionary keys and values.\n",
    "- Weakness: The dictionary is not ordered. Thus, the Python dictionary is not suitable when the order of the data is critical.\n",
    "\n",
    "#FR7\n",
    "- For this task, I utilized FR6 dictionary to directly extract the variables' data and then apply the various statistical algorithms to it.\n",
    "- Lot of manual work has to be done with this approach, however, we can use a Pandas module to do same task more efficiently.\n",
    "\n",
    "#FR8\n",
    "- My approach for this task was by directly extracting the Statistical values from FR7 and then presenting them in the table.\n",
    "- Further, I changed all the numerical values to two decimal spaces in order to fit the values properly in the table.\n"
   ]
  },
  {
   "cell_type": "markdown",
   "metadata": {
    "deletable": false
   },
   "source": [
    "<p style=\"color:red; font-weight:bold; font-size:xx-small\">MARK: __%</p>\n",
    "<p style=\"color:red; font-weight:bold; font-size:xx-small\">FEEDBACK: </p>"
   ]
  }
 ],
 "metadata": {
  "kernelspec": {
   "display_name": "Python 3",
   "language": "python",
   "name": "python3"
  },
  "language_info": {
   "codemirror_mode": {
    "name": "ipython",
    "version": 3
   },
   "file_extension": ".py",
   "mimetype": "text/x-python",
   "name": "python",
   "nbconvert_exporter": "python",
   "pygments_lexer": "ipython3",
   "version": "3.8.8"
  }
 },
 "nbformat": 4,
 "nbformat_minor": 4
}
